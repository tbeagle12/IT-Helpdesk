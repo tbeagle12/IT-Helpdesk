{
  "nbformat": 4,
  "nbformat_minor": 0,
  "metadata": {
    "colab": {
      "name": "IT_Help_Bot.ipynb",
      "provenance": [],
      "authorship_tag": "ABX9TyPZ5FCx4vbJvr6Qegn4OBq3",
      "include_colab_link": true
    },
    "kernelspec": {
      "name": "python3",
      "display_name": "Python 3"
    }
  },
  "cells": [
    {
      "cell_type": "markdown",
      "metadata": {
        "id": "view-in-github",
        "colab_type": "text"
      },
      "source": [
        "<a href=\"https://colab.research.google.com/github/tbeagle12/IT-Helpdesk/blob/master/IT_Help_Bot.ipynb\" target=\"_parent\"><img src=\"https://colab.research.google.com/assets/colab-badge.svg\" alt=\"Open In Colab\"/></a>"
      ]
    },
    {
      "cell_type": "code",
      "metadata": {
        "id": "C8QYGJC77uOL"
      },
      "source": [
        "# Description: This is a chat bot program"
      ],
      "execution_count": null,
      "outputs": []
    },
    {
      "cell_type": "code",
      "metadata": {
        "id": "X4Srp71Q8I1W"
      },
      "source": [
        "#import the library\r\n",
        "from nltk.chat.util import Chat, reflections"
      ],
      "execution_count": 1,
      "outputs": []
    },
    {
      "cell_type": "code",
      "metadata": {
        "id": "ZpKRXrvY8Vzc"
      },
      "source": [
        "pairs = [\r\n",
        "    ['my name is (.*)', ['hi %1']], \r\n",
        "    ['(hi|hello|hey|holla|hola)', ['hey there', 'hi there', 'hayyyyyyyy']],  \r\n",
        "    ['(.*) in (.*) is fun', ['%1 in %2 is indeed fun']],\r\n",
        "    ['(.*)(location|city) ?', 'Tokyo, Japan'],\r\n",
        "    ['(.*) created you', ['tbeagle12 did using NLTK']],\r\n",
        "    ['how is the weather in (.*)', ['the weather in %1 is amazing like always']],\r\n",
        "    ['(.*)help(.*)', ['I can help you']],\r\n",
        "    ['(.*) your name ?', ['my name is JARVIS']]\r\n",
        "]"
      ],
      "execution_count": 42,
      "outputs": []
    },
    {
      "cell_type": "code",
      "metadata": {
        "colab": {
          "base_uri": "https://localhost:8080/"
        },
        "id": "kqz5aEdL-_0K",
        "outputId": "f01f707a-f200-4d3a-a34c-5f675c29f368"
      },
      "source": [
        "reflections"
      ],
      "execution_count": 29,
      "outputs": [
        {
          "output_type": "execute_result",
          "data": {
            "text/plain": [
              "{'i': 'you',\n",
              " 'i am': 'you are',\n",
              " 'i was': 'you were',\n",
              " \"i'd\": 'you would',\n",
              " \"i'll\": 'you will',\n",
              " \"i'm\": 'you are',\n",
              " \"i've\": 'you have',\n",
              " 'me': 'you',\n",
              " 'my': 'your',\n",
              " 'you': 'me',\n",
              " 'you are': 'I am',\n",
              " 'you were': 'I was',\n",
              " \"you'll\": 'I will',\n",
              " \"you've\": 'I have',\n",
              " 'your': 'my',\n",
              " 'yours': 'mine'}"
            ]
          },
          "metadata": {
            "tags": []
          },
          "execution_count": 29
        }
      ]
    },
    {
      "cell_type": "code",
      "metadata": {
        "id": "MqxGWdCI_N0c"
      },
      "source": [
        "my_dummy_reflections = {\r\n",
        "    'go' : 'gone',\r\n",
        "    'hello' : 'hey there'\r\n",
        "}"
      ],
      "execution_count": 30,
      "outputs": []
    },
    {
      "cell_type": "code",
      "metadata": {
        "colab": {
          "base_uri": "https://localhost:8080/",
          "height": 629
        },
        "id": "WTQYt6Rx8pFl",
        "outputId": "022ac192-b9ce-4d4c-9074-57a5b85175ba"
      },
      "source": [
        "chat = Chat(pairs, my_dummy_reflections)\r\n",
        "#chat._substitute('go hello')\r\n",
        "chat.converse()"
      ],}
